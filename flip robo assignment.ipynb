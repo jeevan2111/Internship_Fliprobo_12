{
 "cells": [
  {
   "cell_type": "code",
   "execution_count": 55,
   "id": "3664c273",
   "metadata": {},
   "outputs": [],
   "source": [
    "import pandas as pd\n",
    "import re"
   ]
  },
  {
   "cell_type": "markdown",
   "id": "2498ecb0",
   "metadata": {},
   "source": [
    "\n",
    "Question 1- Write a Python program to replace all occurrences of a space, comma, or dot with a colon.\n",
    "Sample Text- 'Python Exercises, PHP exercises.'\n",
    "Expected Output: Python:Exercises::PHP:exercises:\n"
   ]
  },
  {
   "cell_type": "code",
   "execution_count": 2,
   "id": "21e1a403",
   "metadata": {},
   "outputs": [
    {
     "name": "stdout",
     "output_type": "stream",
     "text": [
      "Python:Exercises::PHP:exercises:\n"
     ]
    }
   ],
   "source": [
    "def replace_to_colon(text):\n",
    "    pattern = r'[ ,.]'\n",
    "\n",
    "    result = re.sub(pattern, ':', text)\n",
    "    return result\n",
    "\n",
    "text = 'Python Exercises, PHP exercises.'\n",
    "\n",
    "print(replace_with_colon(text))"
   ]
  },
  {
   "cell_type": "markdown",
   "id": "12b9de34",
   "metadata": {},
   "source": [
    "Question 2-  Create a dataframe using the dictionary below and remove everything (commas (,), !, XXXX, ;, etc.) from the columns except words.\n",
    "Dictionary- {'SUMMARY' : ['hello, world!', 'XXXXX test', '123four, five:; six...']}\n",
    "Expected output-\n",
    "0      hello world\n",
    "1             test\n",
    "2    four five six\n"
   ]
  },
  {
   "cell_type": "code",
   "execution_count": 4,
   "id": "cdb522c9",
   "metadata": {},
   "outputs": [
    {
     "name": "stdout",
     "output_type": "stream",
     "text": [
      "         SUMMARY\n",
      "0    hello world\n",
      "1     XXXXX test\n",
      "2  four five six\n"
     ]
    }
   ],
   "source": [
    "data = {'SUMMARY': ['hello, world!', 'XXXXX test', '123four, five:; six...']}\n",
    "\n",
    "df = pd.DataFrame(data)\n",
    "\n",
    "def clean_text(text):\n",
    "    return re.sub(r'[^a-zA-Z\\s]', '', text).strip()\n",
    "\n",
    "df['SUMMARY'] = df['SUMMARY'].apply(clean_text)\n",
    "\n",
    "print(df)"
   ]
  },
  {
   "cell_type": "markdown",
   "id": "60ac8f66",
   "metadata": {},
   "source": [
    "Question 3- Create a function in python to find all words that are at least 4 characters long in a string. The use of the re.compile() method is mandatory."
   ]
  },
  {
   "cell_type": "code",
   "execution_count": 7,
   "id": "1af69dcd",
   "metadata": {},
   "outputs": [
    {
     "name": "stdout",
     "output_type": "stream",
     "text": [
      "['Kalki', 'tenth', 'avatar', 'Lord', 'Vishnu']\n"
     ]
    }
   ],
   "source": [
    "def find_long_words_method1(text):\n",
    "    pattern = re.compile(r'\\b\\w{4,}\\b')\n",
    "    \n",
    "    matches = pattern.findall(text)\n",
    "    \n",
    "    return matches\n",
    "\n",
    "sample_text = \"Kalki is the tenth avatar of Lord Vishnu\"\n",
    "print(find_long_words_method1(sample_text))"
   ]
  },
  {
   "cell_type": "markdown",
   "id": "6d8bdfb8",
   "metadata": {},
   "source": [
    "Question 4- Create a function in python to find all three, four, and five character words in a string. The use of the re.compile() method is mandatory."
   ]
  },
  {
   "cell_type": "code",
   "execution_count": 9,
   "id": "295fca2a",
   "metadata": {},
   "outputs": [
    {
     "name": "stdout",
     "output_type": "stream",
     "text": [
      "['Kalki', 'is', 'the', 'tenth', 'avatar', 'of', 'Lord', 'Vishnu']\n"
     ]
    }
   ],
   "source": [
    "def find_long_words_method1(text):\n",
    "    pattern = re.compile(r'\\b\\w{2,}\\b')\n",
    "    \n",
    "    matches = pattern.findall(text)\n",
    "    \n",
    "    return matches\n",
    "\n",
    "sample_text = \"Kalki is the tenth avatar of Lord Vishnu\"\n",
    "print(find_long_words_method1(sample_text))"
   ]
  },
  {
   "cell_type": "markdown",
   "id": "46a7e029",
   "metadata": {},
   "source": [
    "Question 5- Create a function in Python to remove the parenthesis in a list of strings. The use of the re.compile() method is mandatory.\n",
    "Sample Text: [\"example (.com)\", \"hr@fliprobo (.com)\", \"github (.com)\", \"Hello (Data Science World)\", \"Data (Scientist)\"]\n",
    "Expected Output:\n",
    "example.com\n",
    "hr@fliprobo.com\n",
    "github.com\n",
    "Hello Data Science World\n",
    "Data Scientist"
   ]
  },
  {
   "cell_type": "code",
   "execution_count": 11,
   "id": "1a84f48d",
   "metadata": {},
   "outputs": [
    {
     "name": "stdout",
     "output_type": "stream",
     "text": [
      "['example', 'hr@fliprobo', 'github', 'Hello', 'Data']\n"
     ]
    }
   ],
   "source": [
    "def remove_parentheses(strings):\n",
    "    pattern = re.compile(r'\\s*\\(.*?\\)\\s*')\n",
    "    \n",
    "    return [pattern.sub('', s).strip() for s in strings]\n",
    "\n",
    "sample_text = [\"example (.com)\", \"hr@fliprobo (.com)\", \"github (.com)\", \"Hello (Data Science World)\", \"Data (Scientist)\"]\n",
    "print(remove_parentheses(sample_text))"
   ]
  },
  {
   "cell_type": "code",
   "execution_count": 12,
   "id": "25b14834",
   "metadata": {},
   "outputs": [
    {
     "name": "stdout",
     "output_type": "stream",
     "text": [
      "['example', 'hr@fliprobo', 'github', 'Hello', 'Data']\n"
     ]
    }
   ],
   "source": [
    "def remove_parentheses_method1(strings):\n",
    "    # Compile the pattern to match parentheses and their contents\n",
    "    pattern = re.compile(r'\\s*\\(.*?\\)\\s*')\n",
    "    \n",
    "    # Replace matched parentheses and contents with an empty string\n",
    "    return [pattern.sub('', s).strip() for s in strings]\n",
    "\n",
    "# Sample text\n",
    "sample_text = [\"example (.com)\", \"hr@fliprobo (.com)\", \"github (.com)\", \"Hello (Data Science World)\", \"Data (Scientist)\"]\n",
    "print(remove_parentheses_method1(sample_text))"
   ]
  },
  {
   "cell_type": "code",
   "execution_count": 13,
   "id": "603f59e3",
   "metadata": {},
   "outputs": [
    {
     "name": "stdout",
     "output_type": "stream",
     "text": [
      "['example', 'hr@fliprobo', 'github', 'Hello', 'Data']\n"
     ]
    }
   ],
   "source": [
    "import re\n",
    "\n",
    "def remove_parentheses(strings):\n",
    "    # Compile a regular expression pattern to match parentheses and their contents\n",
    "    pattern = re.compile(r'\\s*\\(.*?\\)\\s*')\n",
    "    \n",
    "    # Process each string in the list\n",
    "    cleaned_strings = [pattern.sub('', s).strip() for s in strings]\n",
    "    \n",
    "    return cleaned_strings\n",
    "\n",
    "# Sample text\n",
    "sample_text = [\"example (.com)\", \"hr@fliprobo (.com)\", \"github (.com)\", \"Hello (Data Science World)\", \"Data (Scientist)\"]\n",
    "\n",
    "# Call the function and print the result\n",
    "print(remove_parentheses(sample_text))"
   ]
  },
  {
   "cell_type": "code",
   "execution_count": 14,
   "id": "5f069614",
   "metadata": {},
   "outputs": [
    {
     "name": "stdout",
     "output_type": "stream",
     "text": [
      "['example', 'hr@fliprobo', 'github', 'Hello', 'Data']\n"
     ]
    }
   ],
   "source": [
    "def remove_parentheses_method2(strings):\n",
    "    # Compile the pattern to match parentheses and their contents\n",
    "    pattern = re.compile(r'\\s*\\(.*?\\)\\s*')\n",
    "    \n",
    "    # Process each string in the list\n",
    "    cleaned_strings = []\n",
    "    for s in strings:\n",
    "        # Use re.finditer to find all matches\n",
    "        for match in pattern.finditer(s):\n",
    "            s = s.replace(match.group(), '')\n",
    "        cleaned_strings.append(s.strip())\n",
    "    \n",
    "    return cleaned_strings\n",
    "\n",
    "# Sample text\n",
    "sample_text = [\"example (.com)\", \"hr@fliprobo (.com)\", \"github (.com)\", \"Hello (Data Science World)\", \"Data (Scientist)\"]\n",
    "print(remove_parentheses_method2(sample_text))\n"
   ]
  },
  {
   "cell_type": "code",
   "execution_count": 15,
   "id": "84ca40b5",
   "metadata": {},
   "outputs": [
    {
     "name": "stdout",
     "output_type": "stream",
     "text": [
      "['example', 'hr@fliprobo', 'github', 'Hello', 'Data']\n"
     ]
    }
   ],
   "source": [
    "def remove_parentheses_method1(strings):\n",
    "\n",
    "    pattern = re.compile(r'\\s*\\(.*?\\)\\s*')\n",
    "    \n",
    "    return [pattern.sub('', s).strip() for s in strings]\n",
    "\n",
    "sample_text = [\"example (.com)\", \"hr@fliprobo (.com)\", \"github (.com)\", \"Hello (Data Science World)\", \"Data (Scientist)\"]\n",
    "print(remove_parentheses_method1(sample_text))"
   ]
  },
  {
   "cell_type": "code",
   "execution_count": 44,
   "id": "cee32128",
   "metadata": {},
   "outputs": [
    {
     "name": "stdout",
     "output_type": "stream",
     "text": [
      "example\n",
      "hr@fliprobo\n",
      "github\n",
      "Hello\n",
      "Data\n"
     ]
    }
   ],
   "source": [
    "# i tried many methods but output was not same\n",
    "def remove_parentheses(strings):\n",
    "\n",
    "    pattern = re.compile(r'\\s*\\(.*?\\)\\s*')\n",
    "    \n",
    "    return [pattern.sub('', s).strip() for s in strings]\n",
    "\n",
    "sample_text = [\"example (.com)\", \"hr@fliprobo (.com)\", \"github (.com)\", \"Hello (Data Science World)\", \"Data (Scientist)\"]\n",
    "\n",
    "for i in remove_parentheses(sample_text):\n",
    "    print(i)"
   ]
  },
  {
   "cell_type": "markdown",
   "id": "11624dfb",
   "metadata": {},
   "source": [
    "Question 6- Write a python program to remove the parenthesis area from the text stored in the text file using Regular Expression.\n",
    "Sample Text: [\"example (.com)\", \"hr@fliprobo (.com)\", \"github (.com)\", \"Hello (Data Science World)\", \"Data (Scientist)\"]\n",
    "Expected Output: [\"example\", \"hr@fliprobo\", \"github\", \"Hello\", \"Data\"]\n",
    "Note- Store given sample text in the text file and then to remove the parenthesis area from the text.\n"
   ]
  },
  {
   "cell_type": "code",
   "execution_count": 23,
   "id": "00821733",
   "metadata": {},
   "outputs": [
    {
     "name": "stdout",
     "output_type": "stream",
     "text": [
      "['example', 'hr@fliprobo', 'github', 'Hello', 'Data']\n"
     ]
    }
   ],
   "source": [
    "def remove_parentheses(strings):\n",
    "    # Compile a regular expression pattern to match parentheses and their contents\n",
    "    pattern = re.compile(r'\\s*\\(.*?\\)\\s*')\n",
    "    \n",
    "    # Process each string in the list\n",
    "    cleaned_strings = [pattern.sub('', s).strip() for s in strings]\n",
    "    \n",
    "    return cleaned_strings\n",
    "\n",
    "# Sample text\n",
    "sample_text = [\"example (.com)\", \"hr@fliprobo (.com)\", \"github (.com)\", \"Hello (Data Science World)\", \"Data (Scientist)\"]\n",
    "\n",
    "# Call the function and print the result\n",
    "print(remove_parentheses(sample_text))"
   ]
  },
  {
   "cell_type": "code",
   "execution_count": 46,
   "id": "9844caf0",
   "metadata": {},
   "outputs": [
    {
     "name": "stdout",
     "output_type": "stream",
     "text": [
      "['example', 'hr@fliprobo', 'github', 'Hello', 'Data']\n"
     ]
    }
   ],
   "source": [
    "def remove_parentheses1(strings):\n",
    "\n",
    "    pattern = re.compile(r'\\s*\\(.*?\\)\\s*')\n",
    "    \n",
    "    return [pattern.sub('', s).strip() for s in strings]\n",
    "\n",
    "sample_text = [\"example (.com)\", \"hr@fliprobo (.com)\", \"github (.com)\", \"Hello (Data Science World)\", \"Data (Scientist)\"]\n",
    "print(remove_parentheses1(sample_text))"
   ]
  },
  {
   "cell_type": "markdown",
   "id": "5e520f92",
   "metadata": {},
   "source": [
    "Question 7- Write a regular expression in Python to split a string into uppercase letters.\n",
    "Sample text: “ImportanceOfRegularExpressionsInPython”\n",
    "Expected Output: [‘Importance’, ‘Of’, ‘Regular’, ‘Expression’, ‘In’, ‘Python’]\n"
   ]
  },
  {
   "cell_type": "code",
   "execution_count": 56,
   "id": "9f4881f7",
   "metadata": {},
   "outputs": [
    {
     "name": "stdout",
     "output_type": "stream",
     "text": [
      "['Importance', 'Of', 'Regular', 'Expressions', 'In', 'Python']\n"
     ]
    }
   ],
   "source": [
    "def split_to_uppercase(text):\n",
    "    pattern = re.compile(r'(?<!^)(?=[A-Z])')\n",
    "    \n",
    "    para = pattern.split(text)\n",
    "    \n",
    "    return para\n",
    "\n",
    "sample_text = \"ImportanceOfRegularExpressionsInPython\"\n",
    "print(split_to_uppercase(sample_text))"
   ]
  },
  {
   "cell_type": "markdown",
   "id": "48c37316",
   "metadata": {},
   "source": [
    "Question 8- Create a function in python to insert spaces between words starting with numbers.\n",
    "Sample Text: “RegularExpression1IsAn2ImportantTopic3InPython\"\n",
    "Expected Output: RegularExpression 1IsAn 2ImportantTopic 3InPython\n"
   ]
  },
  {
   "cell_type": "code",
   "execution_count": 60,
   "id": "db3f1a8b",
   "metadata": {},
   "outputs": [
    {
     "name": "stdout",
     "output_type": "stream",
     "text": [
      "RegularExpression1 IsAn2 ImportantTopic3 InPython\n"
     ]
    }
   ],
   "source": [
    "def insert_space(text):\n",
    "    result = []\n",
    "    i = 0\n",
    "    while i < len(text):\n",
    "        result.append(text[i])\n",
    "        if text[i].isdigit() and i + 1 < len(text) and text[i + 1].isupper():\n",
    "            result.append(' ')\n",
    "        i += 1\n",
    "    return ''.join(result)\n",
    "\n",
    "sample_text = \"RegularExpression1IsAn2ImportantTopic3InPython\"\n",
    "print(insert_space(sample_text))\n"
   ]
  },
  {
   "cell_type": "markdown",
   "id": "71e9b786",
   "metadata": {},
   "source": [
    "Question 9- Create a function in python to insert spaces between words starting with capital letters or with numbers.\n",
    "Sample Text: “RegularExpression1IsAn2ImportantTopic3InPython\"\n",
    "Expected Output:  RegularExpression 1 IsAn 2 ImportantTopic 3 InPython\n"
   ]
  },
  {
   "cell_type": "code",
   "execution_count": 109,
   "id": "469286ce",
   "metadata": {},
   "outputs": [
    {
     "name": "stdout",
     "output_type": "stream",
     "text": [
      "Regular Expression 1 Is An 2 Important Topic 3 In Python\n"
     ]
    }
   ],
   "source": [
    "def insert_spaces_regex(text):\n",
    "    # This pattern matches a capital letter or number that follows a lowercase letter or number\n",
    "    pattern = re.compile(r'(?<=[a-z0-9])(?=[A-Z0-9])')\n",
    "    \n",
    "    # Use re.sub to replace the matched pattern with a space\n",
    "    result = pattern.sub(' ', text)\n",
    "    \n",
    "    return result\n",
    "\n",
    "# Sample text\n",
    "sample_text = \"RegularExpression1IsAn2ImportantTopic3InPython\"\n",
    "print(insert_spaces_regex(sample_text))\n"
   ]
  },
  {
   "cell_type": "code",
   "execution_count": 65,
   "id": "30683360",
   "metadata": {},
   "outputs": [
    {
     "name": "stdout",
     "output_type": "stream",
     "text": [
      "Regular Expression 1is An 2important Topic 3in Python\n"
     ]
    }
   ],
   "source": [
    "def insert_space(text):\n",
    "    pattern = re.compile(r'(?<=[a-z0-9])(?=[A-Z0-9])')\n",
    "    \n",
    "    result = pattern.sub(' ', text)\n",
    "    \n",
    "    return result\n",
    "\n",
    "sample_text = \"RegularExpression1isAn2importantTopic3inPython\"\n",
    "print(insert_spaces_regex(sample_text))"
   ]
  },
  {
   "cell_type": "markdown",
   "id": "44c3625e",
   "metadata": {},
   "source": [
    "Question 10- Use the github link below to read the data and create a dataframe. After creating the dataframe extract the first 6 letters of each country and store in the dataframe under a new column called first_five_letters.\n",
    "Github Link-  https://raw.githubusercontent.com/dsrscientist/DSData/master/happiness_score_dataset.csv\n"
   ]
  },
  {
   "cell_type": "code",
   "execution_count": 67,
   "id": "feb48a72",
   "metadata": {},
   "outputs": [
    {
     "name": "stdout",
     "output_type": "stream",
     "text": [
      "Initial DataFrame:\n",
      "       Country          Region  Happiness Rank  Happiness Score  \\\n",
      "0  Switzerland  Western Europe               1            7.587   \n",
      "1      Iceland  Western Europe               2            7.561   \n",
      "2      Denmark  Western Europe               3            7.527   \n",
      "3       Norway  Western Europe               4            7.522   \n",
      "4       Canada   North America               5            7.427   \n",
      "\n",
      "   Standard Error  Economy (GDP per Capita)   Family  \\\n",
      "0         0.03411                   1.39651  1.34951   \n",
      "1         0.04884                   1.30232  1.40223   \n",
      "2         0.03328                   1.32548  1.36058   \n",
      "3         0.03880                   1.45900  1.33095   \n",
      "4         0.03553                   1.32629  1.32261   \n",
      "\n",
      "   Health (Life Expectancy)  Freedom  Trust (Government Corruption)  \\\n",
      "0                   0.94143  0.66557                        0.41978   \n",
      "1                   0.94784  0.62877                        0.14145   \n",
      "2                   0.87464  0.64938                        0.48357   \n",
      "3                   0.88521  0.66973                        0.36503   \n",
      "4                   0.90563  0.63297                        0.32957   \n",
      "\n",
      "   Generosity  Dystopia Residual  \n",
      "0     0.29678            2.51738  \n",
      "1     0.43630            2.70201  \n",
      "2     0.34139            2.49204  \n",
      "3     0.34699            2.46531  \n",
      "4     0.45811            2.45176  \n",
      "\n",
      "DataFrame with 'first_five_letters' column:\n",
      "       Country          Region  Happiness Rank  Happiness Score  \\\n",
      "0  Switzerland  Western Europe               1            7.587   \n",
      "1      Iceland  Western Europe               2            7.561   \n",
      "2      Denmark  Western Europe               3            7.527   \n",
      "3       Norway  Western Europe               4            7.522   \n",
      "4       Canada   North America               5            7.427   \n",
      "\n",
      "   Standard Error  Economy (GDP per Capita)   Family  \\\n",
      "0         0.03411                   1.39651  1.34951   \n",
      "1         0.04884                   1.30232  1.40223   \n",
      "2         0.03328                   1.32548  1.36058   \n",
      "3         0.03880                   1.45900  1.33095   \n",
      "4         0.03553                   1.32629  1.32261   \n",
      "\n",
      "   Health (Life Expectancy)  Freedom  Trust (Government Corruption)  \\\n",
      "0                   0.94143  0.66557                        0.41978   \n",
      "1                   0.94784  0.62877                        0.14145   \n",
      "2                   0.87464  0.64938                        0.48357   \n",
      "3                   0.88521  0.66973                        0.36503   \n",
      "4                   0.90563  0.63297                        0.32957   \n",
      "\n",
      "   Generosity  Dystopia Residual first_five_letters  \n",
      "0     0.29678            2.51738             Switze  \n",
      "1     0.43630            2.70201             Icelan  \n",
      "2     0.34139            2.49204             Denmar  \n",
      "3     0.34699            2.46531             Norway  \n",
      "4     0.45811            2.45176             Canada  \n"
     ]
    }
   ],
   "source": [
    "import pandas as pd\n",
    "\n",
    "# Step 1: Read the data from the GitHub link into a DataFrame\n",
    "url = 'https://raw.githubusercontent.com/dsrscientist/DSData/master/happiness_score_dataset.csv'\n",
    "df = pd.read_csv(url)\n",
    "\n",
    "# Display the first few rows of the DataFrame to understand its structure\n",
    "print(\"Initial DataFrame:\")\n",
    "print(df.head())\n",
    "\n",
    "# Step 2: Extract the first 6 letters of each country and store in a new column\n",
    "df['first_five_letters'] = df['Country'].str[:6]\n",
    "\n",
    "# Display the updated DataFrame\n",
    "print(\"\\nDataFrame with 'first_five_letters' column:\")\n",
    "print(df.head())\n"
   ]
  },
  {
   "cell_type": "code",
   "execution_count": 72,
   "id": "c6341ebd",
   "metadata": {},
   "outputs": [
    {
     "name": "stdout",
     "output_type": "stream",
     "text": [
      "       Country          Region  Happiness Rank  Happiness Score  \\\n",
      "0  Switzerland  Western Europe               1            7.587   \n",
      "1      Iceland  Western Europe               2            7.561   \n",
      "2      Denmark  Western Europe               3            7.527   \n",
      "3       Norway  Western Europe               4            7.522   \n",
      "4       Canada   North America               5            7.427   \n",
      "\n",
      "   Standard Error  Economy (GDP per Capita)   Family  \\\n",
      "0         0.03411                   1.39651  1.34951   \n",
      "1         0.04884                   1.30232  1.40223   \n",
      "2         0.03328                   1.32548  1.36058   \n",
      "3         0.03880                   1.45900  1.33095   \n",
      "4         0.03553                   1.32629  1.32261   \n",
      "\n",
      "   Health (Life Expectancy)  Freedom  Trust (Government Corruption)  \\\n",
      "0                   0.94143  0.66557                        0.41978   \n",
      "1                   0.94784  0.62877                        0.14145   \n",
      "2                   0.87464  0.64938                        0.48357   \n",
      "3                   0.88521  0.66973                        0.36503   \n",
      "4                   0.90563  0.63297                        0.32957   \n",
      "\n",
      "   Generosity  Dystopia Residual first_five_letters  \n",
      "0     0.29678            2.51738              Switz  \n",
      "1     0.43630            2.70201              Icela  \n",
      "2     0.34139            2.49204              Denma  \n",
      "3     0.34699            2.46531              Norwa  \n",
      "4     0.45811            2.45176              Canad  \n"
     ]
    }
   ],
   "source": [
    "def first_five_letters():\n",
    "    url = 'https://raw.githubusercontent.com/dsrscientist/DSData/master/happiness_score_dataset.csv'\n",
    "    df = pd.read_csv(url)\n",
    "    \n",
    "    df['first_five_letters'] = [country[:5] for country in df['Country']]\n",
    "    \n",
    "    return df\n",
    "df_method = first_five_letters()\n",
    "print(df_method.head())"
   ]
  },
  {
   "cell_type": "markdown",
   "id": "55dc723c",
   "metadata": {},
   "source": [
    "Question 11- Write a Python program to match a string that contains only upper and lowercase letters, numbers, and underscores."
   ]
  },
  {
   "cell_type": "markdown",
   "id": "db187c87",
   "metadata": {},
   "source": [
    "Question 12- Write a Python program where a string will start with a specific number. "
   ]
  },
  {
   "cell_type": "code",
   "execution_count": 87,
   "id": "3dc2a917",
   "metadata": {},
   "outputs": [
    {
     "name": "stdout",
     "output_type": "stream",
     "text": [
      "'123abc' starts with 456: False\n"
     ]
    }
   ],
   "source": [
    "def starts_with_number_match(n, number):\n",
    "    pattern = re.compile(rf'^{number}')\n",
    "    \n",
    "    return bool(pattern.match(n))\n",
    "\n",
    "num = [\"123abc\"]\n",
    "\n",
    "for string in num:\n",
    "    result = starts_with_number_match(string, number)\n",
    "    print(f\"'{string}' starts with {number}: {result}\")\n"
   ]
  },
  {
   "cell_type": "markdown",
   "id": "d9ff0dd1",
   "metadata": {},
   "source": [
    "Question 13- Write a Python program to remove leading zeros from an IP address"
   ]
  },
  {
   "cell_type": "code",
   "execution_count": 94,
   "id": "4e643d2b",
   "metadata": {},
   "outputs": [
    {
     "name": "stdout",
     "output_type": "stream",
     "text": [
      "Old IP: 192.168.01.001 -> New IP: 192.168.1.1\n"
     ]
    }
   ],
   "source": [
    "def remove_zero(ip):\n",
    "    pattern = re.compile(r'\\b0+(\\d)')\n",
    "\n",
    "    cleaned_ip = pattern.sub(r'\\1', ip)\n",
    "    \n",
    "    cleaned_ip = re.sub(r'\\b0+', '0', cleaned_ip)\n",
    "    \n",
    "    return cleaned_ip\n",
    "\n",
    "ips = [\"192.168.01.001\"]\n",
    "\n",
    "for ip in ips:\n",
    "    cleaned_ip = remove_zero(ip)\n",
    "    print(f\"Old IP: {ip} -> New IP: {cleaned_ip}\")"
   ]
  },
  {
   "cell_type": "markdown",
   "id": "cb207ce7",
   "metadata": {},
   "source": [
    "Question 14- Write a regular expression in python to match a date string in the form of Month name followed by day number and year stored in a text file.\n",
    "Sample text :  ' On August 15th 1947 that India was declared independent from British colonialism, and the reins of control were handed over to the leaders of the Country’.\n",
    "Expected Output- August 15th 1947\n",
    "Note- Store given sample text in the text file and then extract the date string asked format.\n"
   ]
  },
  {
   "cell_type": "markdown",
   "id": "ee84a1cf",
   "metadata": {},
   "source": [
    "ans14- didnt understand question 14"
   ]
  },
  {
   "cell_type": "markdown",
   "id": "13cb3ff9",
   "metadata": {},
   "source": [
    "Question 15- Write a Python program to search some literals strings in a string. \n",
    "Sample text : 'The quick brown fox jumps over the lazy dog.'\n",
    "Searched words : 'fox', 'dog', 'horse'\n"
   ]
  },
  {
   "cell_type": "code",
   "execution_count": 97,
   "id": "ee59bbd4",
   "metadata": {},
   "outputs": [
    {
     "name": "stdout",
     "output_type": "stream",
     "text": [
      "Found words: ['fox', 'dog']\n"
     ]
    }
   ],
   "source": [
    "def search_word(text, words):\n",
    "    pattern = re.compile('|'.join(re.escape(word) for word in words))\n",
    "    \n",
    "    match = pattern.findall(text)\n",
    "    \n",
    "    return match\n",
    "\n",
    "sample_text = 'The quick brown fox jumps over the lazy dog.'\n",
    "\n",
    "searched_words = ['fox', 'dog', 'cat']\n",
    "\n",
    "found_words = search_word(sample_text, searched_words)\n",
    "print(\"Found words:\", found_words)"
   ]
  },
  {
   "cell_type": "markdown",
   "id": "7660fd77",
   "metadata": {},
   "source": [
    "Question 16- Write a Python program to search a literals string in a string and also find the location within the original string where the pattern occurs\n",
    "Sample text : 'The quick brown fox jumps over the lazy dog.'\n",
    "Searched words : 'fox'\n"
   ]
  },
  {
   "cell_type": "code",
   "execution_count": 99,
   "id": "dac16b34",
   "metadata": {},
   "outputs": [
    {
     "name": "stdout",
     "output_type": "stream",
     "text": [
      "Occurrences of 'fox':\n",
      "Found at position 16 to 19: fox\n"
     ]
    }
   ],
   "source": [
    "def search_and_locate(text, word):\n",
    "    pattern = re.compile(re.escape(word))\n",
    "    \n",
    "    matches = pattern.finditer(text)\n",
    "    \n",
    "    positions = [(match.start(), match.end()) for match in matches]\n",
    "    \n",
    "    return positions\n",
    "\n",
    "sample_text = 'The quick brown fox jumps over the lazy dog.'\n",
    "\n",
    "searched_word = 'fox'\n",
    "\n",
    "positions = search_and_locate(sample_text, searched_word)\n",
    "\n",
    "print(f\"Occurrences of '{searched_word}':\")\n",
    "for start, end in positions:\n",
    "    print(f\"Found at position {start} to {end}: {sample_text[start:end]}\")"
   ]
  },
  {
   "cell_type": "markdown",
   "id": "30d3099f",
   "metadata": {},
   "source": [
    "Question 17- Write a Python program to find the substrings within a string.\n",
    "Sample text : 'Python exercises, PHP exercises, C# exercises'\n",
    "Pattern : 'exercises'.\n"
   ]
  },
  {
   "cell_type": "code",
   "execution_count": 102,
   "id": "001145d6",
   "metadata": {},
   "outputs": [
    {
     "name": "stdout",
     "output_type": "stream",
     "text": [
      "Occurrences of 'exercises':\n",
      "Found at position 7 to 16: exercises\n",
      "Found at position 22 to 31: exercises\n",
      "Found at position 36 to 45: exercises\n"
     ]
    }
   ],
   "source": [
    "def find_substrings(text, word):\n",
    "    regex = re.compile(re.escape(word))\n",
    "    \n",
    "    matches = regex.finditer(text)\n",
    "    \n",
    "    positions = [(match.start(), match.end()) for match in matches]\n",
    "    \n",
    "    return positions\n",
    "\n",
    "sample_text = 'Python exercises, PHP exercises, C# exercises'\n",
    "\n",
    "word = 'exercises'\n",
    "\n",
    "positions = find_substrings(sample_text, pattern)\n",
    "\n",
    "print(f\"Occurrences of '{word}':\")\n",
    "for start, end in positions:\n",
    "    print(f\"Found at position {start} to {end}: {sample_text[start:end]}\")"
   ]
  },
  {
   "cell_type": "markdown",
   "id": "7576ba52",
   "metadata": {},
   "source": [
    "Question 18- Write a Python program to find the occurrence and position of the substrings within a string."
   ]
  },
  {
   "cell_type": "code",
   "execution_count": 105,
   "id": "22672e22",
   "metadata": {},
   "outputs": [
    {
     "name": "stdout",
     "output_type": "stream",
     "text": [
      "Occurrences of 'exercises':\n",
      "Found 'exercises' at position 7 to 16\n",
      "Found 'exercises' at position 22 to 31\n",
      "Found 'exercises' at position 36 to 45\n"
     ]
    }
   ],
   "source": [
    "def find_substrings_with_positions(text, word):\n",
    "    regex = re.compile(re.escape(word))\n",
    "    \n",
    "    matches = regex.finditer(text)\n",
    "    \n",
    "    positions = [(match.start(), match.end(), match.group()) for match in matches]\n",
    "    \n",
    "    return positions\n",
    "\n",
    "sample_text = 'Python exercises, PHP exercises, C# exercises'\n",
    "\n",
    "substring = 'exercises'\n",
    "\n",
    "positions = find_substrings_with_positions(sample_text, substring)\n",
    "\n",
    "print(f\"Occurrences of '{substring}':\")\n",
    "for start, end, match in positions:\n",
    "    print(f\"Found '{match}' at position {start} to {end}\")"
   ]
  },
  {
   "cell_type": "markdown",
   "id": "84f4964f",
   "metadata": {},
   "source": [
    "Question 19- Write a Python program to convert a date of yyyy-mm-dd format to dd-mm-yyyy format."
   ]
  },
  {
   "cell_type": "code",
   "execution_count": 106,
   "id": "39bc66b4",
   "metadata": {},
   "outputs": [
    {
     "name": "stdout",
     "output_type": "stream",
     "text": [
      "Original date: 2002-11-21\n",
      "Converted date: 21-11-2002\n"
     ]
    }
   ],
   "source": [
    "from datetime import datetime\n",
    "\n",
    "def convert_date_format(date_str):\n",
    "    input_format = \"%Y-%m-%d\"\n",
    "    date_obj = datetime.strptime(date_str, input_format)\n",
    "    \n",
    "    output_format = \"%d-%m-%Y\"\n",
    "    formatted_date = date_obj.strftime(output_format)\n",
    "    \n",
    "    return formatted_date\n",
    "\n",
    "date_string = \"2002-11-21\"\n",
    "\n",
    "converted_date = convert_date_format(date_string)\n",
    "print(f\"Original date: {date_string}\")\n",
    "print(f\"Converted date: {converted_date}\")"
   ]
  },
  {
   "cell_type": "markdown",
   "id": "e3114705",
   "metadata": {},
   "source": [
    "Question 20- Create a function in python to find all decimal numbers with a precision of 1 or 2 in a string. The use of the re.compile() method is mandatory.\n",
    "Sample Text: \"01.12 0132.123 2.31875 145.8 3.01 27.25 0.25\"\n",
    "Expected Output: ['01.12', '145.8', '3.01', '27.25', '0.25']\n"
   ]
  },
  {
   "cell_type": "code",
   "execution_count": 107,
   "id": "5fe28c7b",
   "metadata": {},
   "outputs": [
    {
     "name": "stdout",
     "output_type": "stream",
     "text": [
      "Decimal numbers with precision of 1 or 2 decimal places: ['01.12', '145.8', '3.01', '27.25', '0.25']\n"
     ]
    }
   ],
   "source": [
    "def find_decimal_num(text):\n",
    "    pattern = re.compile(r'\\b\\d*\\.\\d{1,2}\\b')\n",
    "    \n",
    "    matches = pattern.findall(text)\n",
    "    \n",
    "    return matches\n",
    "\n",
    "sample_text = \"01.12 0132.123 2.31875 145.8 3.01 27.25 0.25\"\n",
    "\n",
    "result = find_decimal_num(sample_text)\n",
    "\n",
    "print(\"Decimal numbers with precision of 1 or 2 decimal places:\", result)"
   ]
  },
  {
   "cell_type": "markdown",
   "id": "ab1f43df",
   "metadata": {},
   "source": [
    "Question 21- Write a Python program to separate and print the numbers and their position of a given string."
   ]
  },
  {
   "cell_type": "markdown",
   "id": "184c4769",
   "metadata": {},
   "source": [
    "ans - 21- i tried but didnt understand"
   ]
  },
  {
   "cell_type": "markdown",
   "id": "b65a5c17",
   "metadata": {},
   "source": [
    "Question 22- Write a regular expression in python program to extract maximum/largest numeric value from a string.\n",
    "Sample Text:  'My marks in each semester are: 947, 896, 926, 524, 734, 950, 642'\n",
    "Expected Output: 950\n"
   ]
  },
  {
   "cell_type": "code",
   "execution_count": 108,
   "id": "022f1823",
   "metadata": {},
   "outputs": [
    {
     "name": "stdout",
     "output_type": "stream",
     "text": [
      "The maximum numeric value is: 950\n"
     ]
    }
   ],
   "source": [
    "def find_max_value(text):\n",
    "    pattern = re.compile(r'\\d+')\n",
    "    \n",
    "    matches = pattern.findall(text)\n",
    "\n",
    "    numbers = [int(match) for match in matches]\n",
    "\n",
    "    max_value = max(numbers) if numbers else None\n",
    "    \n",
    "    return max_value\n",
    "\n",
    "sample_text = 'My marks in each semester are: 947, 896, 926, 524, 734, 950, 642'\n",
    "\n",
    "max_numeric_value = find_max_value(sample_text)\n",
    "\n",
    "print(f\"The maximum numeric value is: {max_numeric_value}\")"
   ]
  },
  {
   "cell_type": "markdown",
   "id": "f87168e5",
   "metadata": {},
   "source": [
    "Question 23- Create a function in python to insert spaces between words starting with capital letters.\n",
    "Sample Text: “RegularExpressionIsAnImportantTopicInPython\"\n",
    "Expected Output: Regular Expression Is An Important Topic In Python\n"
   ]
  },
  {
   "cell_type": "code",
   "execution_count": 114,
   "id": "05a2add2",
   "metadata": {},
   "outputs": [
    {
     "name": "stdout",
     "output_type": "stream",
     "text": [
      " Regular Expression Is An Important Topic In Python\n"
     ]
    }
   ],
   "source": [
    "def insert_spaces_regex(text):\n",
    "    pattern = re.compile(r'(?=[A-Z])')\n",
    "    \n",
    "    result = pattern.sub(' ', text)\n",
    "    \n",
    "    return result\n",
    "\n",
    "sample_text = \"RegularExpressionIsAnImportantTopicInPython\"\n",
    "print(insert_spaces_regex(sample_text))"
   ]
  },
  {
   "cell_type": "markdown",
   "id": "32e64e99",
   "metadata": {},
   "source": [
    "Question 24- Python regex to find sequences of one upper case letter followed by lower case letters"
   ]
  },
  {
   "cell_type": "code",
   "execution_count": 118,
   "id": "f4e9e472",
   "metadata": {},
   "outputs": [
    {
     "name": "stdout",
     "output_type": "stream",
     "text": [
      "Sequences of one uppercase letter followed by lowercase letters:\n",
      "['Regular', 'Expression', 'Is', 'An', 'Important', 'Topic', 'In', 'Python']\n"
     ]
    }
   ],
   "source": [
    "def find_upper_by_lower(text):\n",
    "    pattern = re.compile(r'[A-Z][a-z]+')\n",
    "    \n",
    "    matches = pattern.findall(text)\n",
    "    \n",
    "    return matches\n",
    "\n",
    "sample_text = 'RegularExpressionIsAnImportantTopicInPython.'\n",
    "\n",
    "sequences = find_upper_followed_by_lower(sample_text)\n",
    "\n",
    "print(\"Sequences of one uppercase letter followed by lowercase letters:\")\n",
    "print(sequences)"
   ]
  },
  {
   "cell_type": "markdown",
   "id": "ce36c92b",
   "metadata": {},
   "source": [
    "Question 25- Write a Python program to remove continuous duplicate words from Sentence using Regular Expression.\n",
    "Sample Text: \"Hello hello world world\"\n",
    "Expected Output: Hello hello world\n"
   ]
  },
  {
   "cell_type": "code",
   "execution_count": 119,
   "id": "b0bf2ef9",
   "metadata": {},
   "outputs": [
    {
     "name": "stdout",
     "output_type": "stream",
     "text": [
      "Original Sentence: Hello hello world world\n",
      "Cleaned Sentence: Hello world\n"
     ]
    }
   ],
   "source": [
    "def remove_continuous_duplicates(sentence):\n",
    "    # Compile the regex pattern to match continuous duplicate words\n",
    "    pattern = re.compile(r'\\b(\\w+)\\s+\\1\\b', re.IGNORECASE)\n",
    "    \n",
    "    # Substitute the duplicates with a single occurrence of the word\n",
    "    cleaned_sentence = pattern.sub(r'\\1', sentence)\n",
    "    \n",
    "    return cleaned_sentence\n",
    "\n",
    "# Sample text\n",
    "sample_text = \"Hello hello world world\"\n",
    "\n",
    "# Remove continuous duplicate words\n",
    "result = remove_continuous_duplicates(sample_text)\n",
    "\n",
    "# Print the result\n",
    "print(\"Original Sentence:\", sample_text)\n",
    "print(\"Cleaned Sentence:\", result)\n"
   ]
  },
  {
   "cell_type": "markdown",
   "id": "8c4099dc",
   "metadata": {},
   "source": [
    "Question 26-  Write a python program using RegEx to accept string ending with alphanumeric character."
   ]
  },
  {
   "cell_type": "code",
   "execution_count": 122,
   "id": "10c3ee39",
   "metadata": {},
   "outputs": [
    {
     "name": "stdout",
     "output_type": "stream",
     "text": [
      "'Hello1' ends with an alphanumeric character: True\n",
      "'Python program' ends with an alphanumeric character: True\n",
      "'click123' ends with an alphanumeric character: True\n",
      "'Just a test.' ends with an alphanumeric character: False\n",
      "'Valid_' ends with an alphanumeric character: True\n"
     ]
    }
   ],
   "source": [
    "def alphanumeric(text):\n",
    "    pattern = re.compile(r'\\w$')\n",
    "    \n",
    "    if pattern.search(text):\n",
    "        return True\n",
    "    else:\n",
    "        return False\n",
    "\n",
    "test_strings = [\n",
    "    \"Hello1\",\n",
    "    \"Python program\",\n",
    "    \"click123\",\n",
    "    \"Just a test.\",\n",
    "    \"Valid_\"\n",
    "]\n",
    "\n",
    "# Check each string\n",
    "for text in test_strings:\n",
    "    result = alphanumeric(text)\n",
    "    print(f\"'{text}' ends with an alphanumeric character: {result}\")"
   ]
  },
  {
   "cell_type": "markdown",
   "id": "35e41236",
   "metadata": {},
   "source": [
    "Question 27-Write a python program using RegEx to extract the hashtags.\n",
    "Sample Text:  \"\"\"RT @kapil_kausik: #Doltiwal I mean #xyzabc is \"hurt\" by #Demonetization as the same has rendered USELESS <ed><U+00A0><U+00BD><ed><U+00B1><U+0089> \"acquired funds\" No wo\"\"\"\n",
    "Expected Output: ['#Doltiwal', '#xyzabc', '#Demonetization']\n"
   ]
  },
  {
   "cell_type": "code",
   "execution_count": 125,
   "id": "147aee79",
   "metadata": {},
   "outputs": [
    {
     "name": "stdout",
     "output_type": "stream",
     "text": [
      "Extracted hashtags: ['#Doltiwal', '#xyzabc', '#Demonetization', '#USELESS']\n"
     ]
    }
   ],
   "source": [
    "def extract_hashtags(text):\n",
    "    # Compile the regex pattern to match hashtags\n",
    "    pattern = re.compile(r'#\\w+')\n",
    "    \n",
    "    # Find all hashtags in the text\n",
    "    hashtags = pattern.findall(text)\n",
    "    \n",
    "    return hashtags\n",
    "\n",
    "# Sample text\n",
    "sample_text = \"\"\"RT @kapil_kausik: #Doltiwal I mean #xyzabc is \"hurt\" by #Demonetization as the same has rendered #USELESS \"\"\"\n",
    "\n",
    "# Extract hashtags\n",
    "hashtags = extract_hashtags(sample_text)\n",
    "\n",
    "# Print the result\n",
    "print(\"Extracted hashtags:\", hashtags)\n"
   ]
  },
  {
   "cell_type": "markdown",
   "id": "7534199a",
   "metadata": {},
   "source": [
    "Question 28- Write a python program using RegEx to remove <U+..> like symbols\n",
    "Check the below sample text, there are strange symbols something of the sort <U+..> all over the place. You need to come up with a general Regex expression that will cover all such symbols.\n",
    "Sample Text: \"@Jags123456 Bharat band on 28??<ed><U+00A0><U+00BD><ed><U+00B8><U+0082>Those who  are protesting #demonetization  are all different party leaders\"\n",
    "Expected Output: @Jags123456 Bharat band on 28??<ed><ed>Those who  are protesting #demonetization  are all different party leaders\n"
   ]
  },
  {
   "cell_type": "markdown",
   "id": "be335b73",
   "metadata": {},
   "source": [
    "ans-28 - didnt understand"
   ]
  },
  {
   "cell_type": "markdown",
   "id": "12788d07",
   "metadata": {},
   "source": [
    "Question 30- Create a function in python to remove all words from a string of length between 2 and 4.\n",
    "The use of the re.compile() method is mandatory.\n",
    "Sample Text: \"The following example creates an ArrayList with a capacity of 50 elements. 4 elements are then added to the ArrayList and the ArrayList is trimmed accordingly.\"\n",
    "Expected Output:  following example creates ArrayList a capacity elements. 4 elements added ArrayList ArrayList trimmed accordingly.\n"
   ]
  },
  {
   "cell_type": "code",
   "execution_count": 126,
   "id": "277df2a5",
   "metadata": {},
   "outputs": [
    {
     "name": "stdout",
     "output_type": "stream",
     "text": [
      "Cleaned Text: following example creates ArrayList a capacity elements. 4 elements added ArrayList ArrayList trimmed accordingly.\n"
     ]
    }
   ],
   "source": [
    "def remove_short_words(text):\n",
    "    pattern = re.compile(r'\\b\\w{2,4}\\b')\n",
    "\n",
    "    cleaned_text = pattern.sub('', text).strip()\n",
    "\n",
    "    cleaned_text = re.sub(r'\\s+', ' ', cleaned_text)\n",
    "    \n",
    "    return cleaned_text\n",
    "\n",
    "sample_text = \"The following example creates an ArrayList with a capacity of 50 elements. 4 elements are then added to the ArrayList and the ArrayList is trimmed accordingly.\"\n",
    "\n",
    "result = remove_short_words(sample_text)\n",
    "\n",
    "print(\"Cleaned Text:\", result)"
   ]
  }
 ],
 "metadata": {
  "kernelspec": {
   "display_name": "Python 3 (ipykernel)",
   "language": "python",
   "name": "python3"
  },
  "language_info": {
   "codemirror_mode": {
    "name": "ipython",
    "version": 3
   },
   "file_extension": ".py",
   "mimetype": "text/x-python",
   "name": "python",
   "nbconvert_exporter": "python",
   "pygments_lexer": "ipython3",
   "version": "3.11.5"
  }
 },
 "nbformat": 4,
 "nbformat_minor": 5
}
